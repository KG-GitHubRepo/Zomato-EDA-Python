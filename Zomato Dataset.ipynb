{
 "cells": [
  {
   "cell_type": "code",
   "execution_count": 1,
   "metadata": {},
   "outputs": [],
   "source": [
    "import pandas as pd\n",
    "import numpy as np\n",
    "import matplotlib.pyplot as plt\n",
    "import seaborn as sns"
   ]
  },
  {
   "cell_type": "code",
   "execution_count": 2,
   "metadata": {},
   "outputs": [],
   "source": [
    "df = pd.read_csv(r\"C:\\Users\\user\\Downloads\\zomato_dataset_data.csv\")"
   ]
  },
  {
   "cell_type": "code",
   "execution_count": 3,
   "metadata": {},
   "outputs": [
    {
     "data": {
      "text/html": [
       "<div>\n",
       "<style scoped>\n",
       "    .dataframe tbody tr th:only-of-type {\n",
       "        vertical-align: middle;\n",
       "    }\n",
       "\n",
       "    .dataframe tbody tr th {\n",
       "        vertical-align: top;\n",
       "    }\n",
       "\n",
       "    .dataframe thead th {\n",
       "        text-align: right;\n",
       "    }\n",
       "</style>\n",
       "<table border=\"1\" class=\"dataframe\">\n",
       "  <thead>\n",
       "    <tr style=\"text-align: right;\">\n",
       "      <th></th>\n",
       "      <th>Restaurant_Name</th>\n",
       "      <th>Dining_Rating</th>\n",
       "      <th>Delivery_Rating</th>\n",
       "      <th>Dining_Votes</th>\n",
       "      <th>Delivery_Votes</th>\n",
       "      <th>Cuisine</th>\n",
       "      <th>Place_Name</th>\n",
       "      <th>City</th>\n",
       "      <th>Item_Name</th>\n",
       "      <th>Best_Seller</th>\n",
       "      <th>Votes</th>\n",
       "      <th>Prices</th>\n",
       "    </tr>\n",
       "  </thead>\n",
       "  <tbody>\n",
       "    <tr>\n",
       "      <th>0</th>\n",
       "      <td>Doner King</td>\n",
       "      <td>3.9</td>\n",
       "      <td>4.2</td>\n",
       "      <td>39</td>\n",
       "      <td>0</td>\n",
       "      <td>Fast Food</td>\n",
       "      <td>Malakpet</td>\n",
       "      <td>Hyderabad</td>\n",
       "      <td>Platter Kebab Combo</td>\n",
       "      <td>BESTSELLER</td>\n",
       "      <td>84</td>\n",
       "      <td>249.0</td>\n",
       "    </tr>\n",
       "    <tr>\n",
       "      <th>1</th>\n",
       "      <td>Doner King</td>\n",
       "      <td>3.9</td>\n",
       "      <td>4.2</td>\n",
       "      <td>39</td>\n",
       "      <td>0</td>\n",
       "      <td>Fast Food</td>\n",
       "      <td>Malakpet</td>\n",
       "      <td>Hyderabad</td>\n",
       "      <td>Chicken Rumali Shawarma</td>\n",
       "      <td>BESTSELLER</td>\n",
       "      <td>45</td>\n",
       "      <td>129.0</td>\n",
       "    </tr>\n",
       "    <tr>\n",
       "      <th>2</th>\n",
       "      <td>Doner King</td>\n",
       "      <td>3.9</td>\n",
       "      <td>4.2</td>\n",
       "      <td>39</td>\n",
       "      <td>0</td>\n",
       "      <td>Fast Food</td>\n",
       "      <td>Malakpet</td>\n",
       "      <td>Hyderabad</td>\n",
       "      <td>Chicken Tandoori Salad</td>\n",
       "      <td>NaN</td>\n",
       "      <td>39</td>\n",
       "      <td>189.0</td>\n",
       "    </tr>\n",
       "    <tr>\n",
       "      <th>3</th>\n",
       "      <td>Doner King</td>\n",
       "      <td>3.9</td>\n",
       "      <td>4.2</td>\n",
       "      <td>39</td>\n",
       "      <td>0</td>\n",
       "      <td>Fast Food</td>\n",
       "      <td>Malakpet</td>\n",
       "      <td>Hyderabad</td>\n",
       "      <td>Chicken BBQ Salad</td>\n",
       "      <td>BESTSELLER</td>\n",
       "      <td>43</td>\n",
       "      <td>189.0</td>\n",
       "    </tr>\n",
       "    <tr>\n",
       "      <th>4</th>\n",
       "      <td>Doner King</td>\n",
       "      <td>3.9</td>\n",
       "      <td>4.2</td>\n",
       "      <td>39</td>\n",
       "      <td>0</td>\n",
       "      <td>Fast Food</td>\n",
       "      <td>Malakpet</td>\n",
       "      <td>Hyderabad</td>\n",
       "      <td>Special Doner Wrap Combo</td>\n",
       "      <td>MUST TRY</td>\n",
       "      <td>31</td>\n",
       "      <td>205.0</td>\n",
       "    </tr>\n",
       "    <tr>\n",
       "      <th>...</th>\n",
       "      <td>...</td>\n",
       "      <td>...</td>\n",
       "      <td>...</td>\n",
       "      <td>...</td>\n",
       "      <td>...</td>\n",
       "      <td>...</td>\n",
       "      <td>...</td>\n",
       "      <td>...</td>\n",
       "      <td>...</td>\n",
       "      <td>...</td>\n",
       "      <td>...</td>\n",
       "      <td>...</td>\n",
       "    </tr>\n",
       "    <tr>\n",
       "      <th>123652</th>\n",
       "      <td>Ariena Boutique Hotel</td>\n",
       "      <td>3.9</td>\n",
       "      <td>4.2</td>\n",
       "      <td>13</td>\n",
       "      <td>523</td>\n",
       "      <td>Pizza</td>\n",
       "      <td>Purena</td>\n",
       "      <td>Raipur</td>\n",
       "      <td>Murgh Reshmi Kebab</td>\n",
       "      <td>NaN</td>\n",
       "      <td>0</td>\n",
       "      <td>525.0</td>\n",
       "    </tr>\n",
       "    <tr>\n",
       "      <th>123653</th>\n",
       "      <td>Ariena Boutique Hotel</td>\n",
       "      <td>3.9</td>\n",
       "      <td>4.2</td>\n",
       "      <td>13</td>\n",
       "      <td>523</td>\n",
       "      <td>Pizza</td>\n",
       "      <td>Purena</td>\n",
       "      <td>Raipur</td>\n",
       "      <td>Murgh Large Tikka</td>\n",
       "      <td>NaN</td>\n",
       "      <td>0</td>\n",
       "      <td>525.0</td>\n",
       "    </tr>\n",
       "    <tr>\n",
       "      <th>123654</th>\n",
       "      <td>Ariena Boutique Hotel</td>\n",
       "      <td>3.9</td>\n",
       "      <td>4.2</td>\n",
       "      <td>13</td>\n",
       "      <td>523</td>\n",
       "      <td>Pizza</td>\n",
       "      <td>Purena</td>\n",
       "      <td>Raipur</td>\n",
       "      <td>Murgh Chukandri Tikka</td>\n",
       "      <td>NaN</td>\n",
       "      <td>0</td>\n",
       "      <td>525.0</td>\n",
       "    </tr>\n",
       "    <tr>\n",
       "      <th>123655</th>\n",
       "      <td>Ariena Boutique Hotel</td>\n",
       "      <td>3.9</td>\n",
       "      <td>4.2</td>\n",
       "      <td>13</td>\n",
       "      <td>523</td>\n",
       "      <td>Pizza</td>\n",
       "      <td>Purena</td>\n",
       "      <td>Raipur</td>\n",
       "      <td>Murgh Golden Kebab</td>\n",
       "      <td>NaN</td>\n",
       "      <td>0</td>\n",
       "      <td>525.0</td>\n",
       "    </tr>\n",
       "    <tr>\n",
       "      <th>123656</th>\n",
       "      <td>Ariena Boutique Hotel</td>\n",
       "      <td>3.9</td>\n",
       "      <td>4.2</td>\n",
       "      <td>13</td>\n",
       "      <td>523</td>\n",
       "      <td>Pizza</td>\n",
       "      <td>Purena</td>\n",
       "      <td>Raipur</td>\n",
       "      <td>Gosht Gilawat Chop</td>\n",
       "      <td>BESTSELLER</td>\n",
       "      <td>0</td>\n",
       "      <td>595.0</td>\n",
       "    </tr>\n",
       "  </tbody>\n",
       "</table>\n",
       "<p>123657 rows × 12 columns</p>\n",
       "</div>"
      ],
      "text/plain": [
       "              Restaurant_Name  Dining_Rating  Delivery_Rating  Dining_Votes  \\\n",
       "0                  Doner King            3.9              4.2            39   \n",
       "1                  Doner King            3.9              4.2            39   \n",
       "2                  Doner King            3.9              4.2            39   \n",
       "3                  Doner King            3.9              4.2            39   \n",
       "4                  Doner King            3.9              4.2            39   \n",
       "...                       ...            ...              ...           ...   \n",
       "123652  Ariena Boutique Hotel            3.9              4.2            13   \n",
       "123653  Ariena Boutique Hotel            3.9              4.2            13   \n",
       "123654  Ariena Boutique Hotel            3.9              4.2            13   \n",
       "123655  Ariena Boutique Hotel            3.9              4.2            13   \n",
       "123656  Ariena Boutique Hotel            3.9              4.2            13   \n",
       "\n",
       "        Delivery_Votes   Cuisine  Place_Name        City  \\\n",
       "0                    0  Fast Food   Malakpet   Hyderabad   \n",
       "1                    0  Fast Food   Malakpet   Hyderabad   \n",
       "2                    0  Fast Food   Malakpet   Hyderabad   \n",
       "3                    0  Fast Food   Malakpet   Hyderabad   \n",
       "4                    0  Fast Food   Malakpet   Hyderabad   \n",
       "...                ...        ...        ...         ...   \n",
       "123652             523      Pizza     Purena      Raipur   \n",
       "123653             523      Pizza     Purena      Raipur   \n",
       "123654             523      Pizza     Purena      Raipur   \n",
       "123655             523      Pizza     Purena      Raipur   \n",
       "123656             523      Pizza     Purena      Raipur   \n",
       "\n",
       "                       Item_Name Best_Seller  Votes  Prices  \n",
       "0            Platter Kebab Combo  BESTSELLER     84   249.0  \n",
       "1        Chicken Rumali Shawarma  BESTSELLER     45   129.0  \n",
       "2         Chicken Tandoori Salad         NaN     39   189.0  \n",
       "3              Chicken BBQ Salad  BESTSELLER     43   189.0  \n",
       "4       Special Doner Wrap Combo    MUST TRY     31   205.0  \n",
       "...                          ...         ...    ...     ...  \n",
       "123652        Murgh Reshmi Kebab         NaN      0   525.0  \n",
       "123653         Murgh Large Tikka         NaN      0   525.0  \n",
       "123654     Murgh Chukandri Tikka         NaN      0   525.0  \n",
       "123655        Murgh Golden Kebab         NaN      0   525.0  \n",
       "123656        Gosht Gilawat Chop  BESTSELLER      0   595.0  \n",
       "\n",
       "[123657 rows x 12 columns]"
      ]
     },
     "execution_count": 3,
     "metadata": {},
     "output_type": "execute_result"
    }
   ],
   "source": [
    "df"
   ]
  },
  {
   "cell_type": "code",
   "execution_count": 4,
   "metadata": {},
   "outputs": [
    {
     "data": {
      "text/plain": [
       "Index(['Restaurant_Name', 'Dining_Rating', 'Delivery_Rating', 'Dining_Votes',\n",
       "       'Delivery_Votes', 'Cuisine ', 'Place_Name', 'City', 'Item_Name',\n",
       "       'Best_Seller', 'Votes', 'Prices'],\n",
       "      dtype='object')"
      ]
     },
     "execution_count": 4,
     "metadata": {},
     "output_type": "execute_result"
    }
   ],
   "source": [
    "df.columns"
   ]
  },
  {
   "cell_type": "code",
   "execution_count": 5,
   "metadata": {},
   "outputs": [
    {
     "data": {
      "text/plain": [
       "(123657, 12)"
      ]
     },
     "execution_count": 5,
     "metadata": {},
     "output_type": "execute_result"
    }
   ],
   "source": [
    "df.shape"
   ]
  },
  {
   "cell_type": "code",
   "execution_count": 6,
   "metadata": {},
   "outputs": [
    {
     "data": {
      "text/plain": [
       "1483884"
      ]
     },
     "execution_count": 6,
     "metadata": {},
     "output_type": "execute_result"
    }
   ],
   "source": [
    "df.size"
   ]
  },
  {
   "cell_type": "code",
   "execution_count": 7,
   "metadata": {},
   "outputs": [
    {
     "name": "stdout",
     "output_type": "stream",
     "text": [
      "<class 'pandas.core.frame.DataFrame'>\n",
      "RangeIndex: 123657 entries, 0 to 123656\n",
      "Data columns (total 12 columns):\n",
      " #   Column           Non-Null Count   Dtype  \n",
      "---  ------           --------------   -----  \n",
      " 0   Restaurant_Name  123657 non-null  object \n",
      " 1   Dining_Rating    91421 non-null   float64\n",
      " 2   Delivery_Rating  122377 non-null  float64\n",
      " 3   Dining_Votes     123657 non-null  int64  \n",
      " 4   Delivery_Votes   123657 non-null  int64  \n",
      " 5   Cuisine          123657 non-null  object \n",
      " 6   Place_Name       123657 non-null  object \n",
      " 7   City             123657 non-null  object \n",
      " 8   Item_Name        123657 non-null  object \n",
      " 9   Best_Seller      27942 non-null   object \n",
      " 10  Votes            123657 non-null  int64  \n",
      " 11  Prices           123657 non-null  float64\n",
      "dtypes: float64(3), int64(3), object(6)\n",
      "memory usage: 11.3+ MB\n"
     ]
    }
   ],
   "source": [
    "df.info()"
   ]
  },
  {
   "cell_type": "code",
   "execution_count": 8,
   "metadata": {},
   "outputs": [
    {
     "data": {
      "text/html": [
       "<div>\n",
       "<style scoped>\n",
       "    .dataframe tbody tr th:only-of-type {\n",
       "        vertical-align: middle;\n",
       "    }\n",
       "\n",
       "    .dataframe tbody tr th {\n",
       "        vertical-align: top;\n",
       "    }\n",
       "\n",
       "    .dataframe thead th {\n",
       "        text-align: right;\n",
       "    }\n",
       "</style>\n",
       "<table border=\"1\" class=\"dataframe\">\n",
       "  <thead>\n",
       "    <tr style=\"text-align: right;\">\n",
       "      <th></th>\n",
       "      <th>Dining_Rating</th>\n",
       "      <th>Delivery_Rating</th>\n",
       "      <th>Dining_Votes</th>\n",
       "      <th>Delivery_Votes</th>\n",
       "      <th>Votes</th>\n",
       "      <th>Prices</th>\n",
       "    </tr>\n",
       "  </thead>\n",
       "  <tbody>\n",
       "    <tr>\n",
       "      <th>count</th>\n",
       "      <td>91421.000000</td>\n",
       "      <td>122377.000000</td>\n",
       "      <td>123657.000000</td>\n",
       "      <td>123657.000000</td>\n",
       "      <td>123657.000000</td>\n",
       "      <td>123657.000000</td>\n",
       "    </tr>\n",
       "    <tr>\n",
       "      <th>mean</th>\n",
       "      <td>3.822264</td>\n",
       "      <td>3.963184</td>\n",
       "      <td>152.729858</td>\n",
       "      <td>115.763725</td>\n",
       "      <td>24.666772</td>\n",
       "      <td>241.378399</td>\n",
       "    </tr>\n",
       "    <tr>\n",
       "      <th>std</th>\n",
       "      <td>0.408693</td>\n",
       "      <td>0.245900</td>\n",
       "      <td>232.214061</td>\n",
       "      <td>243.970828</td>\n",
       "      <td>125.236009</td>\n",
       "      <td>192.830713</td>\n",
       "    </tr>\n",
       "    <tr>\n",
       "      <th>min</th>\n",
       "      <td>2.500000</td>\n",
       "      <td>2.500000</td>\n",
       "      <td>0.000000</td>\n",
       "      <td>0.000000</td>\n",
       "      <td>0.000000</td>\n",
       "      <td>0.950000</td>\n",
       "    </tr>\n",
       "    <tr>\n",
       "      <th>25%</th>\n",
       "      <td>3.600000</td>\n",
       "      <td>3.800000</td>\n",
       "      <td>0.000000</td>\n",
       "      <td>0.000000</td>\n",
       "      <td>0.000000</td>\n",
       "      <td>130.000000</td>\n",
       "    </tr>\n",
       "    <tr>\n",
       "      <th>50%</th>\n",
       "      <td>3.900000</td>\n",
       "      <td>4.000000</td>\n",
       "      <td>30.000000</td>\n",
       "      <td>0.000000</td>\n",
       "      <td>0.000000</td>\n",
       "      <td>208.570000</td>\n",
       "    </tr>\n",
       "    <tr>\n",
       "      <th>75%</th>\n",
       "      <td>4.100000</td>\n",
       "      <td>4.100000</td>\n",
       "      <td>217.000000</td>\n",
       "      <td>23.000000</td>\n",
       "      <td>15.000000</td>\n",
       "      <td>299.000000</td>\n",
       "    </tr>\n",
       "    <tr>\n",
       "      <th>max</th>\n",
       "      <td>4.800000</td>\n",
       "      <td>4.600000</td>\n",
       "      <td>997.000000</td>\n",
       "      <td>983.000000</td>\n",
       "      <td>9750.000000</td>\n",
       "      <td>12024.000000</td>\n",
       "    </tr>\n",
       "  </tbody>\n",
       "</table>\n",
       "</div>"
      ],
      "text/plain": [
       "       Dining_Rating  Delivery_Rating   Dining_Votes  Delivery_Votes  \\\n",
       "count   91421.000000    122377.000000  123657.000000   123657.000000   \n",
       "mean        3.822264         3.963184     152.729858      115.763725   \n",
       "std         0.408693         0.245900     232.214061      243.970828   \n",
       "min         2.500000         2.500000       0.000000        0.000000   \n",
       "25%         3.600000         3.800000       0.000000        0.000000   \n",
       "50%         3.900000         4.000000      30.000000        0.000000   \n",
       "75%         4.100000         4.100000     217.000000       23.000000   \n",
       "max         4.800000         4.600000     997.000000      983.000000   \n",
       "\n",
       "               Votes         Prices  \n",
       "count  123657.000000  123657.000000  \n",
       "mean       24.666772     241.378399  \n",
       "std       125.236009     192.830713  \n",
       "min         0.000000       0.950000  \n",
       "25%         0.000000     130.000000  \n",
       "50%         0.000000     208.570000  \n",
       "75%        15.000000     299.000000  \n",
       "max      9750.000000   12024.000000  "
      ]
     },
     "execution_count": 8,
     "metadata": {},
     "output_type": "execute_result"
    }
   ],
   "source": [
    "df.describe()"
   ]
  },
  {
   "cell_type": "code",
   "execution_count": 9,
   "metadata": {},
   "outputs": [
    {
     "data": {
      "text/plain": [
       "Restaurant_Name    0.000000\n",
       "Dining_Rating      0.260689\n",
       "Delivery_Rating    0.010351\n",
       "Dining_Votes       0.000000\n",
       "Delivery_Votes     0.000000\n",
       "Cuisine            0.000000\n",
       "Place_Name         0.000000\n",
       "City               0.000000\n",
       "Item_Name          0.000000\n",
       "Best_Seller        0.774036\n",
       "Votes              0.000000\n",
       "Prices             0.000000\n",
       "dtype: float64"
      ]
     },
     "execution_count": 9,
     "metadata": {},
     "output_type": "execute_result"
    }
   ],
   "source": [
    "df.isnull().sum()/df.shape[0]"
   ]
  },
  {
   "cell_type": "code",
   "execution_count": 13,
   "metadata": {},
   "outputs": [],
   "source": [
    "df[\"Dining_Rating\"].fillna(0, inplace=True)\n",
    "df[\"Delivery_Rating\"].fillna(0, inplace=True)\n",
    "df[\"Best_Seller\"].fillna(\"NA\", inplace=True)"
   ]
  },
  {
   "cell_type": "code",
   "execution_count": 14,
   "metadata": {},
   "outputs": [
    {
     "data": {
      "text/plain": [
       "Restaurant_Name    0.0\n",
       "Dining_Rating      0.0\n",
       "Delivery_Rating    0.0\n",
       "Dining_Votes       0.0\n",
       "Delivery_Votes     0.0\n",
       "Cuisine            0.0\n",
       "Place_Name         0.0\n",
       "City               0.0\n",
       "Item_Name          0.0\n",
       "Best_Seller        0.0\n",
       "Votes              0.0\n",
       "Prices             0.0\n",
       "dtype: float64"
      ]
     },
     "execution_count": 14,
     "metadata": {},
     "output_type": "execute_result"
    }
   ],
   "source": [
    "df.isnull().sum()/df.shape[0]"
   ]
  },
  {
   "cell_type": "code",
   "execution_count": 18,
   "metadata": {},
   "outputs": [
    {
     "data": {
      "text/plain": [
       "McDonald's              2059\n",
       "Domino's Pizza          1435\n",
       "Burger King             1352\n",
       "FreshMenu               1097\n",
       "Pizza Hut               1077\n",
       "                        ... \n",
       "Arabian Food Court         5\n",
       "Akbar Fast Food            5\n",
       "Asian Bowls By Zahvi       4\n",
       "Sukanta                    4\n",
       "Evoke                      4\n",
       "Name: Restaurant_Name, Length: 826, dtype: int64"
      ]
     },
     "execution_count": 18,
     "metadata": {},
     "output_type": "execute_result"
    }
   ],
   "source": [
    "df[\"Restaurant_Name\"].value_counts()"
   ]
  },
  {
   "cell_type": "code",
   "execution_count": 20,
   "metadata": {
    "scrolled": true
   },
   "outputs": [
    {
     "data": {
      "text/plain": [
       " Hyderabad       15613\n",
       " Jaipur          14438\n",
       " Mumbai          13535\n",
       " Chennai         13100\n",
       " Bangalore       12040\n",
       " Ahmedabad       10178\n",
       " Kolkata          8662\n",
       " Pune             8067\n",
       " Kochi            7759\n",
       " Raipur           7700\n",
       " Lucknow          6455\n",
       " New Delhi        3490\n",
       " Goa              2360\n",
       " Banaswadi          97\n",
       " Ulsoor             66\n",
       " Magrath Road       54\n",
       " Malleshwaram       43\n",
       "Name: City, dtype: int64"
      ]
     },
     "execution_count": 20,
     "metadata": {},
     "output_type": "execute_result"
    }
   ],
   "source": [
    "df[\"City\"].value_counts()"
   ]
  },
  {
   "cell_type": "markdown",
   "metadata": {},
   "source": [
    "I noticed that certain names such as Banaswadi and Ulsoor correspond to areas on the outskirts of Bangalore. To ensure consistency, I standardized these names to \"Bangalore.\""
   ]
  },
  {
   "cell_type": "code",
   "execution_count": 22,
   "metadata": {},
   "outputs": [],
   "source": [
    "# change city names\n",
    "df['City'] = df['City'].str.replace('Banaswadi|Ulsoor|Magrath Road|Malleshwaram', 'Bangalore')"
   ]
  },
  {
   "cell_type": "code",
   "execution_count": 23,
   "metadata": {},
   "outputs": [
    {
     "data": {
      "text/plain": [
       " Hyderabad    15613\n",
       " Jaipur       14438\n",
       " Mumbai       13535\n",
       " Chennai      13100\n",
       " Bangalore    12300\n",
       " Ahmedabad    10178\n",
       " Kolkata       8662\n",
       " Pune          8067\n",
       " Kochi         7759\n",
       " Raipur        7700\n",
       " Lucknow       6455\n",
       " New Delhi     3490\n",
       " Goa           2360\n",
       "Name: City, dtype: int64"
      ]
     },
     "execution_count": 23,
     "metadata": {},
     "output_type": "execute_result"
    }
   ],
   "source": [
    "df[\"City\"].value_counts()"
   ]
  },
  {
   "cell_type": "markdown",
   "metadata": {},
   "source": [
    "# EDA\n",
    "\n",
    "**This section is devoted to extracting insights from the data using a series of visualizations, aimed at addressing the outlined objectives and offering a thorough comprehension of the factors influencing the dynamics of the restaurant industry.**"
   ]
  },
  {
   "cell_type": "code",
   "execution_count": 24,
   "metadata": {},
   "outputs": [],
   "source": [
    "res_count=df.groupby(['City'])['Restaurant_Name'].nunique().to_frame().reset_index().sort_values(by='Restaurant_Name', ascending=False).rename(columns={'Restaurant_Name':'Count'})"
   ]
  },
  {
   "cell_type": "code",
   "execution_count": 25,
   "metadata": {},
   "outputs": [
    {
     "data": {
      "image/png": "[encoded data removed]",
      "text/plain": [
       "<Figure size 864x576 with 1 Axes>"
      ]
     },
     "metadata": {
      "needs_background": "light"
     },
     "output_type": "display_data"
    }
   ],
   "source": [
    "plt.figure(figsize=(12,8))\n",
    "ax = sns.barplot(x='Count',y='City',data=res_count)\n",
    "ax.bar_label(container=ax.containers[0])\n",
    "\n",
    "plt.title(\"Cities wise Restaurant Listed\")\n",
    "plt.show()"
   ]
  },
  {
   "cell_type": "markdown",
   "metadata": {},
   "source": [
    "The number of listed restaurants on Zomato in each city reflects the demand for food delivery services in those areas. \n",
    "* Hyderabad has the highest number of listed restaurants with 129- may indicate a larger customer base interested in ordering food online.\n",
    "* Cities with a lower number of listed restaurants may present opportunities for Zomato to expand its network and increase its market share. By onboarding more restaurants in these cities and promoting its services"
   ]
  },
  {
   "cell_type": "code",
   "execution_count": 26,
   "metadata": {},
   "outputs": [
    {
     "data": {
      "image/png": "[encoded data removed]",
      "text/plain": [
       "<Figure size 936x504 with 1 Axes>"
      ]
     },
     "metadata": {
      "needs_background": "light"
     },
     "output_type": "display_data"
    }
   ],
   "source": [
    "ax = df.groupby('City')['Prices'].mean().apply(lambda x: round(x, 0)).to_frame().reset_index().sort_values(by='Prices',\n",
    "                                                                              ascending=False).plot.bar(x='City',y='Prices',figsize=(13,7))\n",
    "ax.bar_label(container=ax.containers[0], color='Red')\n",
    "plt.title(\"Cities by Avg. Item Prices\")\n",
    "plt.ylabel(\"Avg Prices\")\n",
    "plt.xlabel(\"City\")\n",
    "plt.show()"
   ]
  },
  {
   "cell_type": "markdown",
   "metadata": {},
   "source": [
    "* Mumbai stands out significantly with an average item price of 304. This might indicate that it's a more affluent area or that certain goods and services are priced higher there compared to other cities.\n",
    "* Raipur has average item prices in the lower to mid-200s range, indicating a generally moderate cost of living or pricing for goods and services."
   ]
  },
  {
   "cell_type": "markdown",
   "metadata": {},
   "source": [
    "### Cities have the highest average delivery rating"
   ]
  },
  {
   "cell_type": "code",
   "execution_count": 27,
   "metadata": {
    "scrolled": true
   },
   "outputs": [
    {
     "data": {
      "text/html": [
       "<div>\n",
       "<style scoped>\n",
       "    .dataframe tbody tr th:only-of-type {\n",
       "        vertical-align: middle;\n",
       "    }\n",
       "\n",
       "    .dataframe tbody tr th {\n",
       "        vertical-align: top;\n",
       "    }\n",
       "\n",
       "    .dataframe thead th {\n",
       "        text-align: right;\n",
       "    }\n",
       "</style>\n",
       "<table border=\"1\" class=\"dataframe\">\n",
       "  <thead>\n",
       "    <tr style=\"text-align: right;\">\n",
       "      <th></th>\n",
       "      <th>Delivery_Rating</th>\n",
       "    </tr>\n",
       "    <tr>\n",
       "      <th>City</th>\n",
       "      <th></th>\n",
       "    </tr>\n",
       "  </thead>\n",
       "  <tbody>\n",
       "    <tr>\n",
       "      <th>Pune</th>\n",
       "      <td>4.01</td>\n",
       "    </tr>\n",
       "    <tr>\n",
       "      <th>Hyderabad</th>\n",
       "      <td>3.98</td>\n",
       "    </tr>\n",
       "    <tr>\n",
       "      <th>Jaipur</th>\n",
       "      <td>3.98</td>\n",
       "    </tr>\n",
       "    <tr>\n",
       "      <th>Kolkata</th>\n",
       "      <td>3.98</td>\n",
       "    </tr>\n",
       "    <tr>\n",
       "      <th>Bangalore</th>\n",
       "      <td>3.97</td>\n",
       "    </tr>\n",
       "    <tr>\n",
       "      <th>Chennai</th>\n",
       "      <td>3.96</td>\n",
       "    </tr>\n",
       "    <tr>\n",
       "      <th>Lucknow</th>\n",
       "      <td>3.96</td>\n",
       "    </tr>\n",
       "    <tr>\n",
       "      <th>New Delhi</th>\n",
       "      <td>3.95</td>\n",
       "    </tr>\n",
       "    <tr>\n",
       "      <th>Ahmedabad</th>\n",
       "      <td>3.92</td>\n",
       "    </tr>\n",
       "    <tr>\n",
       "      <th>Kochi</th>\n",
       "      <td>3.91</td>\n",
       "    </tr>\n",
       "    <tr>\n",
       "      <th>Mumbai</th>\n",
       "      <td>3.91</td>\n",
       "    </tr>\n",
       "    <tr>\n",
       "      <th>Raipur</th>\n",
       "      <td>3.85</td>\n",
       "    </tr>\n",
       "    <tr>\n",
       "      <th>Goa</th>\n",
       "      <td>2.47</td>\n",
       "    </tr>\n",
       "  </tbody>\n",
       "</table>\n",
       "</div>"
      ],
      "text/plain": [
       "            Delivery_Rating\n",
       "City                       \n",
       " Pune                  4.01\n",
       " Hyderabad             3.98\n",
       " Jaipur                3.98\n",
       " Kolkata               3.98\n",
       " Bangalore             3.97\n",
       " Chennai               3.96\n",
       " Lucknow               3.96\n",
       " New Delhi             3.95\n",
       " Ahmedabad             3.92\n",
       " Kochi                 3.91\n",
       " Mumbai                3.91\n",
       " Raipur                3.85\n",
       " Goa                   2.47"
      ]
     },
     "execution_count": 27,
     "metadata": {},
     "output_type": "execute_result"
    }
   ],
   "source": [
    "#zomato services in cities based on delivery rating\n",
    "df.groupby('City')['Delivery_Rating'].mean().apply(lambda x: round(x,2)).to_frame().sort_values(by='Delivery_Rating', ascending=False)"
   ]
  },
  {
   "cell_type": "markdown",
   "metadata": {},
   "source": [
    "**Based on the delivery ratings provided for each city on Zomato, here are some insights into Zomato's services:**\n",
    "* Cities with higher delivery ratings, These high ratings suggest that Zomato is effectively meeting customer expectations in terms of delivery speed, accuracy, and overall service quality in these areas.\n",
    "* Lower ratings may indicate areas where Zomato can focus on improving its delivery services, addressing issues such as delivery delays, order accuracy, and customer communication to enhance overall customer satisfaction."
   ]
  },
  {
   "cell_type": "code",
   "execution_count": 44,
   "metadata": {},
   "outputs": [
    {
     "data": {
      "image/png": "[encoded data removed]",
      "text/plain": [
       "<Figure size 1080x576 with 1 Axes>"
      ]
     },
     "metadata": {
      "needs_background": "light"
     },
     "output_type": "display_data"
    }
   ],
   "source": [
    "ax = df.groupby('City')['Delivery_Votes'].sum().sort_values(ascending=False).reset_index().plot.bar(x='City',y='Delivery_Votes',figsize=(15,8))\n",
    "# ax.bar_label(container=ax.containers[0])\n",
    "plt.ticklabel_format(useOffset=False,style='plain', axis='y')\n",
    "plt.title(\"Total Votes by Cities\")\n",
    "plt.ylabel(\"Total Votes\")\n",
    "plt.xlabel(\"City\")\n",
    "plt.show()"
   ]
  },
  {
   "cell_type": "markdown",
   "metadata": {},
   "source": [
    "Mumbai's ability to achieve high engagement despite having fewer restaurants, it indicates potential for new establishments. Hence, Mumbai was chosen as the ideal city for a new restaurant venture."
   ]
  },
  {
   "cell_type": "code",
   "execution_count": 54,
   "metadata": {},
   "outputs": [
    {
     "data": {
      "text/html": [
       "<div>\n",
       "<style scoped>\n",
       "    .dataframe tbody tr th:only-of-type {\n",
       "        vertical-align: middle;\n",
       "    }\n",
       "\n",
       "    .dataframe tbody tr th {\n",
       "        vertical-align: top;\n",
       "    }\n",
       "\n",
       "    .dataframe thead th {\n",
       "        text-align: right;\n",
       "    }\n",
       "</style>\n",
       "<table border=\"1\" class=\"dataframe\">\n",
       "  <thead>\n",
       "    <tr style=\"text-align: right;\">\n",
       "      <th></th>\n",
       "      <th>City</th>\n",
       "      <th>Cuisine</th>\n",
       "      <th>Prices</th>\n",
       "    </tr>\n",
       "  </thead>\n",
       "  <tbody>\n",
       "    <tr>\n",
       "      <th>148</th>\n",
       "      <td>Kolkata</td>\n",
       "      <td>Seafood</td>\n",
       "      <td>12024.00</td>\n",
       "    </tr>\n",
       "    <tr>\n",
       "      <th>48</th>\n",
       "      <td>Chennai</td>\n",
       "      <td>Chinese</td>\n",
       "      <td>6500.00</td>\n",
       "    </tr>\n",
       "    <tr>\n",
       "      <th>151</th>\n",
       "      <td>Lucknow</td>\n",
       "      <td>Bakery</td>\n",
       "      <td>5593.22</td>\n",
       "    </tr>\n",
       "    <tr>\n",
       "      <th>212</th>\n",
       "      <td>Raipur</td>\n",
       "      <td>Pizza</td>\n",
       "      <td>3999.00</td>\n",
       "    </tr>\n",
       "    <tr>\n",
       "      <th>32</th>\n",
       "      <td>Bangalore</td>\n",
       "      <td>Kebab</td>\n",
       "      <td>3999.00</td>\n",
       "    </tr>\n",
       "    <tr>\n",
       "      <th>147</th>\n",
       "      <td>Kolkata</td>\n",
       "      <td>Pizza</td>\n",
       "      <td>3999.00</td>\n",
       "    </tr>\n",
       "    <tr>\n",
       "      <th>173</th>\n",
       "      <td>Mumbai</td>\n",
       "      <td>Desserts</td>\n",
       "      <td>3800.00</td>\n",
       "    </tr>\n",
       "    <tr>\n",
       "      <th>61</th>\n",
       "      <td>Chennai</td>\n",
       "      <td>Sichuan</td>\n",
       "      <td>3790.00</td>\n",
       "    </tr>\n",
       "    <tr>\n",
       "      <th>46</th>\n",
       "      <td>Chennai</td>\n",
       "      <td>Beverages</td>\n",
       "      <td>3640.00</td>\n",
       "    </tr>\n",
       "    <tr>\n",
       "      <th>169</th>\n",
       "      <td>Mumbai</td>\n",
       "      <td>Beverages</td>\n",
       "      <td>3499.00</td>\n",
       "    </tr>\n",
       "    <tr>\n",
       "      <th>82</th>\n",
       "      <td>Hyderabad</td>\n",
       "      <td>Biryani</td>\n",
       "      <td>3250.00</td>\n",
       "    </tr>\n",
       "    <tr>\n",
       "      <th>59</th>\n",
       "      <td>Chennai</td>\n",
       "      <td>Seafood</td>\n",
       "      <td>3120.00</td>\n",
       "    </tr>\n",
       "    <tr>\n",
       "      <th>104</th>\n",
       "      <td>Jaipur</td>\n",
       "      <td>Beverages</td>\n",
       "      <td>3000.00</td>\n",
       "    </tr>\n",
       "    <tr>\n",
       "      <th>23</th>\n",
       "      <td>Bangalore</td>\n",
       "      <td>Beverages</td>\n",
       "      <td>3000.00</td>\n",
       "    </tr>\n",
       "    <tr>\n",
       "      <th>90</th>\n",
       "      <td>Hyderabad</td>\n",
       "      <td>Kebab</td>\n",
       "      <td>2900.00</td>\n",
       "    </tr>\n",
       "  </tbody>\n",
       "</table>\n",
       "</div>"
      ],
      "text/plain": [
       "           City   Cuisine     Prices\n",
       "148     Kolkata    Seafood  12024.00\n",
       "48      Chennai    Chinese   6500.00\n",
       "151     Lucknow     Bakery   5593.22\n",
       "212      Raipur      Pizza   3999.00\n",
       "32    Bangalore      Kebab   3999.00\n",
       "147     Kolkata      Pizza   3999.00\n",
       "173      Mumbai   Desserts   3800.00\n",
       "61      Chennai    Sichuan   3790.00\n",
       "46      Chennai  Beverages   3640.00\n",
       "169      Mumbai  Beverages   3499.00\n",
       "82    Hyderabad    Biryani   3250.00\n",
       "59      Chennai    Seafood   3120.00\n",
       "104      Jaipur  Beverages   3000.00\n",
       "23    Bangalore  Beverages   3000.00\n",
       "90    Hyderabad      Kebab   2900.00"
      ]
     },
     "execution_count": 54,
     "metadata": {},
     "output_type": "execute_result"
    }
   ],
   "source": [
    "df.groupby(['City','Cuisine '], as_index= False)['Prices'].max().sort_values(by='Prices',ascending=False).head(15)"
   ]
  },
  {
   "cell_type": "code",
   "execution_count": 56,
   "metadata": {},
   "outputs": [
    {
     "data": {
      "text/html": [
       "<div>\n",
       "<style scoped>\n",
       "    .dataframe tbody tr th:only-of-type {\n",
       "        vertical-align: middle;\n",
       "    }\n",
       "\n",
       "    .dataframe tbody tr th {\n",
       "        vertical-align: top;\n",
       "    }\n",
       "\n",
       "    .dataframe thead th {\n",
       "        text-align: right;\n",
       "    }\n",
       "</style>\n",
       "<table border=\"1\" class=\"dataframe\">\n",
       "  <thead>\n",
       "    <tr style=\"text-align: right;\">\n",
       "      <th></th>\n",
       "      <th>Cuisine</th>\n",
       "      <th>Prices</th>\n",
       "    </tr>\n",
       "    <tr>\n",
       "      <th>City</th>\n",
       "      <th></th>\n",
       "      <th></th>\n",
       "    </tr>\n",
       "  </thead>\n",
       "  <tbody>\n",
       "    <tr>\n",
       "      <th>Ahmedabad</th>\n",
       "      <td>Shake</td>\n",
       "      <td>2599.00</td>\n",
       "    </tr>\n",
       "    <tr>\n",
       "      <th>Bangalore</th>\n",
       "      <td>Kebab</td>\n",
       "      <td>3999.00</td>\n",
       "    </tr>\n",
       "    <tr>\n",
       "      <th>Chennai</th>\n",
       "      <td>Chinese</td>\n",
       "      <td>6500.00</td>\n",
       "    </tr>\n",
       "    <tr>\n",
       "      <th>Goa</th>\n",
       "      <td>Biryani</td>\n",
       "      <td>2300.00</td>\n",
       "    </tr>\n",
       "    <tr>\n",
       "      <th>Hyderabad</th>\n",
       "      <td>Biryani</td>\n",
       "      <td>3250.00</td>\n",
       "    </tr>\n",
       "    <tr>\n",
       "      <th>Jaipur</th>\n",
       "      <td>Beverages</td>\n",
       "      <td>3000.00</td>\n",
       "    </tr>\n",
       "    <tr>\n",
       "      <th>Kochi</th>\n",
       "      <td>Beverages</td>\n",
       "      <td>2749.00</td>\n",
       "    </tr>\n",
       "    <tr>\n",
       "      <th>Kolkata</th>\n",
       "      <td>Seafood</td>\n",
       "      <td>12024.00</td>\n",
       "    </tr>\n",
       "    <tr>\n",
       "      <th>Lucknow</th>\n",
       "      <td>Bakery</td>\n",
       "      <td>5593.22</td>\n",
       "    </tr>\n",
       "    <tr>\n",
       "      <th>Mumbai</th>\n",
       "      <td>Desserts</td>\n",
       "      <td>3800.00</td>\n",
       "    </tr>\n",
       "    <tr>\n",
       "      <th>New Delhi</th>\n",
       "      <td>Beverages</td>\n",
       "      <td>2069.00</td>\n",
       "    </tr>\n",
       "    <tr>\n",
       "      <th>Pune</th>\n",
       "      <td>Fast Food</td>\n",
       "      <td>2560.00</td>\n",
       "    </tr>\n",
       "    <tr>\n",
       "      <th>Raipur</th>\n",
       "      <td>Pizza</td>\n",
       "      <td>3999.00</td>\n",
       "    </tr>\n",
       "  </tbody>\n",
       "</table>\n",
       "</div>"
      ],
      "text/plain": [
       "             Cuisine     Prices\n",
       "City                           \n",
       " Ahmedabad      Shake   2599.00\n",
       " Bangalore      Kebab   3999.00\n",
       " Chennai      Chinese   6500.00\n",
       " Goa          Biryani   2300.00\n",
       " Hyderabad    Biryani   3250.00\n",
       " Jaipur     Beverages   3000.00\n",
       " Kochi      Beverages   2749.00\n",
       " Kolkata      Seafood  12024.00\n",
       " Lucknow       Bakery   5593.22\n",
       " Mumbai      Desserts   3800.00\n",
       " New Delhi  Beverages   2069.00\n",
       " Pune       Fast Food   2560.00\n",
       " Raipur         Pizza   3999.00"
      ]
     },
     "execution_count": 56,
     "metadata": {},
     "output_type": "execute_result"
    }
   ],
   "source": [
    "idx = df_city.groupby('City')['Prices'].idxmax()\n",
    "df_city_max_price = df_city.loc[idx]\n",
    "df_city_max_price = df_city_max_price.set_index('City')\n",
    "df_city_max_price"
   ]
  },
  {
   "cell_type": "code",
   "execution_count": 61,
   "metadata": {},
   "outputs": [
    {
     "ename": "KeyError",
     "evalue": "False",
     "output_type": "error",
     "traceback": [
      "\u001b[1;31m---------------------------------------------------------------------------\u001b[0m",
      "\u001b[1;31mKeyError\u001b[0m                                  Traceback (most recent call last)",
      "\u001b[1;32m~\\anaconda3\\lib\\site-packages\\pandas\\core\\indexes\\base.py\u001b[0m in \u001b[0;36mget_loc\u001b[1;34m(self, key, method, tolerance)\u001b[0m\n\u001b[0;32m   2894\u001b[0m             \u001b[1;32mtry\u001b[0m\u001b[1;33m:\u001b[0m\u001b[1;33m\u001b[0m\u001b[1;33m\u001b[0m\u001b[0m\n\u001b[1;32m-> 2895\u001b[1;33m                 \u001b[1;32mreturn\u001b[0m \u001b[0mself\u001b[0m\u001b[1;33m.\u001b[0m\u001b[0m_engine\u001b[0m\u001b[1;33m.\u001b[0m\u001b[0mget_loc\u001b[0m\u001b[1;33m(\u001b[0m\u001b[0mcasted_key\u001b[0m\u001b[1;33m)\u001b[0m\u001b[1;33m\u001b[0m\u001b[1;33m\u001b[0m\u001b[0m\n\u001b[0m\u001b[0;32m   2896\u001b[0m             \u001b[1;32mexcept\u001b[0m \u001b[0mKeyError\u001b[0m \u001b[1;32mas\u001b[0m \u001b[0merr\u001b[0m\u001b[1;33m:\u001b[0m\u001b[1;33m\u001b[0m\u001b[1;33m\u001b[0m\u001b[0m\n",
      "\u001b[1;32mpandas\\_libs\\index.pyx\u001b[0m in \u001b[0;36mpandas._libs.index.IndexEngine.get_loc\u001b[1;34m()\u001b[0m\n",
      "\u001b[1;32mpandas\\_libs\\index.pyx\u001b[0m in \u001b[0;36mpandas._libs.index.IndexEngine.get_loc\u001b[1;34m()\u001b[0m\n",
      "\u001b[1;32mpandas\\_libs\\hashtable_class_helper.pxi\u001b[0m in \u001b[0;36mpandas._libs.hashtable.PyObjectHashTable.get_item\u001b[1;34m()\u001b[0m\n",
      "\u001b[1;32mpandas\\_libs\\hashtable_class_helper.pxi\u001b[0m in \u001b[0;36mpandas._libs.hashtable.PyObjectHashTable.get_item\u001b[1;34m()\u001b[0m\n",
      "\u001b[1;31mKeyError\u001b[0m: False",
      "\nThe above exception was the direct cause of the following exception:\n",
      "\u001b[1;31mKeyError\u001b[0m                                  Traceback (most recent call last)",
      "\u001b[1;32m<ipython-input-61-28ecef2be5b3>\u001b[0m in \u001b[0;36m<module>\u001b[1;34m\u001b[0m\n\u001b[1;32m----> 1\u001b[1;33m \u001b[0mdf\u001b[0m\u001b[1;33m[\u001b[0m\u001b[0mdf\u001b[0m\u001b[1;33m[\u001b[0m\u001b[1;34m'City'\u001b[0m\u001b[1;33m==\u001b[0m\u001b[1;34m'Kolkata'\u001b[0m\u001b[1;33m]\u001b[0m\u001b[1;33m]\u001b[0m\u001b[1;33m\u001b[0m\u001b[1;33m\u001b[0m\u001b[0m\n\u001b[0m",
      "\u001b[1;32m~\\anaconda3\\lib\\site-packages\\pandas\\core\\frame.py\u001b[0m in \u001b[0;36m__getitem__\u001b[1;34m(self, key)\u001b[0m\n\u001b[0;32m   2900\u001b[0m             \u001b[1;32mif\u001b[0m \u001b[0mself\u001b[0m\u001b[1;33m.\u001b[0m\u001b[0mcolumns\u001b[0m\u001b[1;33m.\u001b[0m\u001b[0mnlevels\u001b[0m \u001b[1;33m>\u001b[0m \u001b[1;36m1\u001b[0m\u001b[1;33m:\u001b[0m\u001b[1;33m\u001b[0m\u001b[1;33m\u001b[0m\u001b[0m\n\u001b[0;32m   2901\u001b[0m                 \u001b[1;32mreturn\u001b[0m \u001b[0mself\u001b[0m\u001b[1;33m.\u001b[0m\u001b[0m_getitem_multilevel\u001b[0m\u001b[1;33m(\u001b[0m\u001b[0mkey\u001b[0m\u001b[1;33m)\u001b[0m\u001b[1;33m\u001b[0m\u001b[1;33m\u001b[0m\u001b[0m\n\u001b[1;32m-> 2902\u001b[1;33m             \u001b[0mindexer\u001b[0m \u001b[1;33m=\u001b[0m \u001b[0mself\u001b[0m\u001b[1;33m.\u001b[0m\u001b[0mcolumns\u001b[0m\u001b[1;33m.\u001b[0m\u001b[0mget_loc\u001b[0m\u001b[1;33m(\u001b[0m\u001b[0mkey\u001b[0m\u001b[1;33m)\u001b[0m\u001b[1;33m\u001b[0m\u001b[1;33m\u001b[0m\u001b[0m\n\u001b[0m\u001b[0;32m   2903\u001b[0m             \u001b[1;32mif\u001b[0m \u001b[0mis_integer\u001b[0m\u001b[1;33m(\u001b[0m\u001b[0mindexer\u001b[0m\u001b[1;33m)\u001b[0m\u001b[1;33m:\u001b[0m\u001b[1;33m\u001b[0m\u001b[1;33m\u001b[0m\u001b[0m\n\u001b[0;32m   2904\u001b[0m                 \u001b[0mindexer\u001b[0m \u001b[1;33m=\u001b[0m \u001b[1;33m[\u001b[0m\u001b[0mindexer\u001b[0m\u001b[1;33m]\u001b[0m\u001b[1;33m\u001b[0m\u001b[1;33m\u001b[0m\u001b[0m\n",
      "\u001b[1;32m~\\anaconda3\\lib\\site-packages\\pandas\\core\\indexes\\base.py\u001b[0m in \u001b[0;36mget_loc\u001b[1;34m(self, key, method, tolerance)\u001b[0m\n\u001b[0;32m   2895\u001b[0m                 \u001b[1;32mreturn\u001b[0m \u001b[0mself\u001b[0m\u001b[1;33m.\u001b[0m\u001b[0m_engine\u001b[0m\u001b[1;33m.\u001b[0m\u001b[0mget_loc\u001b[0m\u001b[1;33m(\u001b[0m\u001b[0mcasted_key\u001b[0m\u001b[1;33m)\u001b[0m\u001b[1;33m\u001b[0m\u001b[1;33m\u001b[0m\u001b[0m\n\u001b[0;32m   2896\u001b[0m             \u001b[1;32mexcept\u001b[0m \u001b[0mKeyError\u001b[0m \u001b[1;32mas\u001b[0m \u001b[0merr\u001b[0m\u001b[1;33m:\u001b[0m\u001b[1;33m\u001b[0m\u001b[1;33m\u001b[0m\u001b[0m\n\u001b[1;32m-> 2897\u001b[1;33m                 \u001b[1;32mraise\u001b[0m \u001b[0mKeyError\u001b[0m\u001b[1;33m(\u001b[0m\u001b[0mkey\u001b[0m\u001b[1;33m)\u001b[0m \u001b[1;32mfrom\u001b[0m \u001b[0merr\u001b[0m\u001b[1;33m\u001b[0m\u001b[1;33m\u001b[0m\u001b[0m\n\u001b[0m\u001b[0;32m   2898\u001b[0m \u001b[1;33m\u001b[0m\u001b[0m\n\u001b[0;32m   2899\u001b[0m         \u001b[1;32mif\u001b[0m \u001b[0mtolerance\u001b[0m \u001b[1;32mis\u001b[0m \u001b[1;32mnot\u001b[0m \u001b[1;32mNone\u001b[0m\u001b[1;33m:\u001b[0m\u001b[1;33m\u001b[0m\u001b[1;33m\u001b[0m\u001b[0m\n",
      "\u001b[1;31mKeyError\u001b[0m: False"
     ]
    }
   ],
   "source": [
    "df[df['City'=='Kolkata']]"
   ]
  },
  {
   "cell_type": "code",
   "execution_count": null,
   "metadata": {},
   "outputs": [],
   "source": []
  }
 ],
 "metadata": {
  "kernelspec": {
   "display_name": "Python 3",
   "language": "python",
   "name": "python3"
  },
  "language_info": {
   "codemirror_mode": {
    "name": "ipython",
    "version": 3
   },
   "file_extension": ".py",
   "mimetype": "text/x-python",
   "name": "python",
   "nbconvert_exporter": "python",
   "pygments_lexer": "ipython3",
   "version": "3.8.5"
  }
 },
 "nbformat": 4,
 "nbformat_minor": 4
}
